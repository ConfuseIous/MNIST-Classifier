{
 "cells": [
  {
   "cell_type": "code",
   "execution_count": 1,
   "id": "67f3cb84-5257-4182-bf77-5e16e3891c80",
   "metadata": {},
   "outputs": [],
   "source": [
    "import gzip\n",
    "import numpy as np\n",
    "import tensorflow as tf\n",
    "import matplotlib.pyplot as plt\n",
    "import tensorflow.keras.datasets.mnist as mnist"
   ]
  },
  {
   "cell_type": "code",
   "execution_count": 2,
   "id": "9893f7cd",
   "metadata": {},
   "outputs": [
    {
     "name": "stdout",
     "output_type": "stream",
     "text": [
      "(60000, 28, 28)\n",
      "(10000, 28, 28)\n"
     ]
    }
   ],
   "source": [
    "# Load Data\n",
    "data = mnist.load_data()\n",
    "\n",
    "train_data, train_labels = data[0]\n",
    "test_data, test_labels = data[1]\n",
    "\n",
    "print(train_data.shape)\n",
    "print(test_data.shape)"
   ]
  },
  {
   "cell_type": "code",
   "execution_count": 3,
   "id": "1b6ac010",
   "metadata": {},
   "outputs": [],
   "source": [
    "# Build Model\n",
    "\n",
    "model = tf.keras.Sequential([\n",
    "    # Conv2D layer to extract features from the image\n",
    "    tf.keras.layers.Conv2D(32, (3, 3), activation='relu', input_shape=(28, 28, 1)),\n",
    "    # MaxPooling2D layer to reduce the dimensionality of the output volume\n",
    "    tf.keras.layers.MaxPooling2D((2, 2)),\n",
    "    # Flatten layer to flatten the output volume to a 1D array\n",
    "    tf.keras.layers.Flatten(),\n",
    "    # Dense layer to perform classification\n",
    "    tf.keras.layers.Dense(128, activation='relu'),\n",
    "    tf.keras.layers.Dense(10, activation='softmax')\n",
    "])\n",
    "\n",
    "model.compile(optimizer='adam', loss='sparse_categorical_crossentropy', metrics=['accuracy', 'mae', 'mse'])"
   ]
  },
  {
   "cell_type": "code",
   "execution_count": 4,
   "id": "8371dd9b",
   "metadata": {},
   "outputs": [
    {
     "name": "stdout",
     "output_type": "stream",
     "text": [
      "Epoch 1/5\n",
      "1875/1875 [==============================] - 6s 2ms/step - loss: 0.4942 - accuracy: 0.9323 - mae: 4.3737 - mse: 27.3881\n",
      "Epoch 2/5\n",
      "1875/1875 [==============================] - 4s 2ms/step - loss: 0.0807 - accuracy: 0.9767 - mae: 4.3737 - mse: 27.3916\n",
      "Epoch 3/5\n",
      "1875/1875 [==============================] - 4s 2ms/step - loss: 0.0578 - accuracy: 0.9829 - mae: 4.3737 - mse: 27.3923\n",
      "Epoch 4/5\n",
      "1875/1875 [==============================] - 4s 2ms/step - loss: 0.0457 - accuracy: 0.9858 - mae: 4.3737 - mse: 27.3928\n",
      "Epoch 5/5\n",
      "1875/1875 [==============================] - 4s 2ms/step - loss: 0.0353 - accuracy: 0.9889 - mae: 4.3737 - mse: 27.3932\n"
     ]
    },
    {
     "data": {
      "text/plain": [
       "<keras.callbacks.History at 0x1b40fa3d390>"
      ]
     },
     "execution_count": 4,
     "metadata": {},
     "output_type": "execute_result"
    }
   ],
   "source": [
    "# Train Model\n",
    "\n",
    "model.fit(train_data, train_labels, epochs=5)"
   ]
  },
  {
   "cell_type": "code",
   "execution_count": 5,
   "id": "9df4d02f",
   "metadata": {},
   "outputs": [
    {
     "name": "stdout",
     "output_type": "stream",
     "text": [
      "313/313 [==============================] - 1s 2ms/step - loss: 0.0978 - accuracy: 0.9765 - mae: 4.3630 - mse: 27.3387\n"
     ]
    }
   ],
   "source": [
    "# Test Model\n",
    "\n",
    "test_loss, test_acc, test_mae, test_mse = model.evaluate(test_data, test_labels)"
   ]
  }
 ],
 "metadata": {
  "kernelspec": {
   "display_name": "tf",
   "language": "python",
   "name": "python3"
  },
  "language_info": {
   "codemirror_mode": {
    "name": "ipython",
    "version": 3
   },
   "file_extension": ".py",
   "mimetype": "text/x-python",
   "name": "python",
   "nbconvert_exporter": "python",
   "pygments_lexer": "ipython3",
   "version": "3.10.0"
  },
  "vscode": {
   "interpreter": {
    "hash": "76305bdb854acd386dc939fa4741f6cc2ccdc8a760b2c7d31af98df840f84e56"
   }
  }
 },
 "nbformat": 4,
 "nbformat_minor": 5
}
